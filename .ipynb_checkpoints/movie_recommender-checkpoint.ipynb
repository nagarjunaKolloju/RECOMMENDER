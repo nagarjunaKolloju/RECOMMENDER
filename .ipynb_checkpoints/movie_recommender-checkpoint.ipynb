{
 "cells": [
  {
   "cell_type": "code",
   "execution_count": null,
   "metadata": {},
   "outputs": [],
   "source": [
    "#Author :- NAGARJUNA KOLLOJU\n",
    "import pandas as pd\n",
    "import numpy as np\n",
    "from sklearn.feature_extraction.text import CountVectorizer\n",
    "from sklearn.metrics.pairwise import cosine_similarity\n",
    "###### helper functions. Use them when needed #######\n",
    "\n",
    "\n",
    "def get_title_from_index(index):\n",
    "    return df[df.index == index][\"title\"].values[0]\n",
    "\n",
    "\n",
    "def get_index_from_title(title):\n",
    "    return df[df.title == title][\"index\"].values[0]\n",
    "\n",
    "\n",
    "def combine_features(row):\n",
    "    return row[\"keywords\"] + row[\"cast\"] + \" \" + row[\"genres\"] + \" \" + row[\"director\"]\n",
    "##################################################\n",
    "\n",
    "\n",
    "# Step 1: Read CSV File\n",
    "df = pd.read_csv(\"movie_dataset.csv\")\n",
    "\n",
    "# Step 2: Select Features\n",
    "features = [\"keywords\",\"cast\", \"genres\", \"director\"]\n",
    "\n",
    "# Step 3: Create a column in DF which combines all selected features\n",
    "for each_feature in features:\n",
    "    # fill with blank string\n",
    "    df[each_feature] = df[each_feature].fillna(' ')\n",
    "df[\"combined_features\"] = df.apply(combine_features, axis=1)\n",
    "# printing\n",
    "print(\"combined_features: \", df[\"combine_features\"].head())\n",
    "\n",
    "# Step 4: Create count matrix from this new combined column\n",
    "cv = CountVectorizer()\n",
    "count_matrix = cv.fit_transform(df[\"combined_features\"])\n",
    "\n",
    "# Step 5: Compute the Cosine Similarity based on the count_matrix\n",
    "sim = cosine_similarity(count_matrix)\n",
    "movie_user_likes = \"Avatar\"\n",
    "\n",
    "# Step 6: Get index of this movie from its title\n",
    "movie_index = get_index_from_title(movie_user_likes)\n",
    "similar_movies = list(enumerate(sim[movie_index]))\n",
    "\n",
    "# Step 7: Get a list of similar movies in descending order of similarity score\n",
    "sort_according_to_sim = sorted(similar_movies, key=lambda x:x[1], reverse=True)[1:]\n",
    "\n",
    "# Step 8: Print titles of first 50 movies\n",
    "count = 0\n",
    "for movie in sort_according_to_sim:\n",
    "    print (get_title_from_index(movie[0]))\n",
    "    count = count + 1\n",
    "    if count > 50:\n",
    "        break\n"
   ]
  },
  {
   "cell_type": "code",
   "execution_count": null,
   "metadata": {},
   "outputs": [],
   "source": []
  }
 ],
 "metadata": {
  "kernelspec": {
   "display_name": "Python 3",
   "language": "python",
   "name": "python3"
  },
  "language_info": {
   "codemirror_mode": {
    "name": "ipython",
    "version": 3
   },
   "file_extension": ".py",
   "mimetype": "text/x-python",
   "name": "python",
   "nbconvert_exporter": "python",
   "pygments_lexer": "ipython3",
   "version": "3.8.5"
  }
 },
 "nbformat": 4,
 "nbformat_minor": 4
}
